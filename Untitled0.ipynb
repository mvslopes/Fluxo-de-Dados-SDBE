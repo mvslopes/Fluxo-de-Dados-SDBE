{
  "nbformat": 4,
  "nbformat_minor": 0,
  "metadata": {
    "colab": {
      "provenance": [],
      "authorship_tag": "ABX9TyNaAyaPfV1/aJ0lfGhVMJ65",
      "include_colab_link": true
    },
    "kernelspec": {
      "name": "python3",
      "display_name": "Python 3"
    },
    "language_info": {
      "name": "python"
    }
  },
  "cells": [
    {
      "cell_type": "markdown",
      "metadata": {
        "id": "view-in-github",
        "colab_type": "text"
      },
      "source": [
        "<a href=\"https://colab.research.google.com/github/mvslopes/Fluxo-de-Dados-SDBE/blob/main/Untitled0.ipynb\" target=\"_parent\"><img src=\"https://colab.research.google.com/assets/colab-badge.svg\" alt=\"Open In Colab\"/></a>"
      ]
    },
    {
      "cell_type": "markdown",
      "source": [],
      "metadata": {
        "id": "h9LrqIpT95fH"
      }
    },
    {
      "cell_type": "code",
      "source": [
        "# Imports\n",
        "import csv\n",
        "import airflow\n",
        "import time\n",
        "import pandas as pd\n",
        "from datetime import datetime\n",
        "from datetime import timedelta\n",
        "from airflow import DAG\n",
        "from airflow.operators.python_operator import PythonOperator\n",
        "from airflow.operators.postgres_operator import PostgresOperator\n",
        "from airflow.utils.dates import days_ago"
      ],
      "metadata": {
        "id": "2DZbC8rH-A9H"
      },
      "execution_count": null,
      "outputs": []
    }
  ]
}