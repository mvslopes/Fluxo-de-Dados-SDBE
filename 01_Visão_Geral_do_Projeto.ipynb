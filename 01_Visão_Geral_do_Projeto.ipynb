{
  "nbformat": 4,
  "nbformat_minor": 0,
  "metadata": {
    "colab": {
      "provenance": [],
      "authorship_tag": "ABX9TyO+0bh4DHBKHyN9eTtWUMde"
    },
    "kernelspec": {
      "name": "python3",
      "display_name": "Python 3"
    },
    "language_info": {
      "name": "python"
    }
  },
  "cells": [
    {
      "cell_type": "markdown",
      "source": [
        "##**1- OBJETIVO**\n",
        "\n",
        "###**1.1- Breve Introdução**\n",
        "\n",
        "O objetivo deste projeto de **Engenharia de Dados** foi abordar os desafios enfrentados pelo **SDBE - Storage Distributed by Electrical**, um centro de distribuição que lidava com o **armazenamento** e **componentes** para a fabricação de chicotes elétricos para a indústria automotiva **e a sua necessidade de modernizar o controle do seu estoque**.\n",
        "\n",
        "Na indústria automotiva, o termo **\"chicotes elétricos\"** refere-se a conjuntos complexos de fios, cabos, conectores e componentes elétricos que são usados para conectar e alimentar os sistemas elétricos e eletrônicos de um veículo. Esses chicotes elétricos desempenham um papel crítico na operação de um veículo, pois fornecem energia elétrica e transmitem sinais entre os vários componentes do veículo, como o motor, a transmissão, os sistemas de iluminação, os sistemas de entretenimento, os sistemas de segurança, os sensores e muito mais.\n",
        "\n",
        "**O SDBE - Storage Distributed by Electrical** é um centro de distribuição de pequeno porte,localizado na cidade de Camaçari- Bahia que tem uma equipe composta por **10 colaboradores operacionais e 06 administrativos**. Seus clientes são empresas localizadas na região nordeste do Brasil que se dedicam à fabricação artesanal de **Buggys e Mini Buggys**.\n",
        "\n",
        "O controle do estoque era realizado por meio de um sistema antigo e planilhas do Excel, o que resultava em uma falta de precisão considerável no monitoramento de aproximadamente **900 SKUs**, incluindo itens nacionais e importados.\n",
        "\n",
        "A gestão do **SDBE - Storage Distributed by Electrical**, olhando para o futuro e buscando oportunidades de melhoria, decidiu iniciar a análise do saldo de seu estoque (dados), desde o momento da entrada, passando pela armazenagem até as movimentações, com o objetivo de obter um controle mais preciso e repostas para questionamentos de negócios e aumentar a **satisfação dos clientes**.\n",
        "\n",
        "Nesse momento, a gestão do **SDBE - Storage Distributed by Electrical** estava em busca de uma ferramenta de integração de dados projetada para simplificar o fluxo de informações entre sistemas heterogêneos e análise. Eles desejavam uma interface gráfica de arrastar e soltar que permitisse a criação de fluxos de dados sem a necessidade de codificação ou programação avançada, tornando-a atrativa para eles pois não contavam com colaboradores com habilidades avançadas em programação.\n",
        "\n",
        "A estrutura apresentada à gestão do **SDBE - Storage Distributed by Electrical**, após analisar suas necessidades, envolve soluções on-premises e ferramentas open source.\n",
        "\n",
        "**A arquitetura estabelecida consiste em:**\n",
        "\n",
        "* **Apache NiFi** para a ingestão, transformação e carregamento de dados.\n",
        "\n",
        "* Um **Data Lake** baseado em cluster Hadoop HDFS com três máquinas, sendo uma namenode e dois datanodes, para armazenamento centralizado de informações.\n",
        "\n",
        "* Um **Data Warehouse** (DW) com banco de dados **PostgreSQL** para análise de dados.\n",
        "\n",
        "* A infraestrutura foi provisionada por meio de Docker.\n",
        "\n",
        "Essa arquitetura foi projetada para atender às necessidades de integração de dados do **SDBE - Storage Distributed by Electrical** e garantir uma gestão eficiente do estoque e das operações.\n",
        "\n",
        "---\n",
        "\n"
      ],
      "metadata": {
        "id": "eaNayqFMlDKr"
      }
    },
    {
      "cell_type": "markdown",
      "source": [
        "###**1.2- Detalhamento do Problema e Impacto no Negócio**\n",
        "\n",
        "O detalhamento do problema enfrentado pelo **SDBE - Storage Distributed by Electrical** estava relacionado à falta de controle preciso sobre o estoque, que afetava diretamente as operações e a satisfação dos clientes. Os principais aspectos do problema incluíam:\n",
        "\n",
        "**A - Controle de Estoque Ineficiente:** O uso de um sistema antigo e planilhas do Excel tornava difícil obter uma visão precisa e em tempo real do estoque, que consistia em cerca de 900 SKUs (itens), incluindo peças nacionais e importadas.\n",
        "\n",
        "**B - Falta de Acuracidade:** A falta de acuracidade nas informações de estoque levava a erros no atendimento de pedidos, atrasos nas entregas e insatisfação dos clientes.\n",
        "\n",
        "**C - Processos Manuais:** A gestão de estoque dependia de processos manuais, como contagens físicas periódicas, o que aumentava o risco de erros humanos e tornava o processo demorado.\n",
        "\n",
        "**D - Necessidade de Modernização:** A necessidade de modernizar o controle de estoque era essencial para melhorar a eficiência operacional, reduzir custos com retrabalho e oferecer um serviço mais ágil e confiável aos clientes.\n",
        "\n",
        "**Observação:**\\\n",
        " O impacto no negócio era significativo, uma vez que a falta de controle de estoque afetava diretamente a capacidade do **SDBE** de atender às demandas de seus clientes de forma eficaz.\n",
        "\n",
        " A satisfação do cliente estava em risco devido a erros de estoque e atrasos nas entregas. Portanto, a gestão reconheceu a necessidade de uma solução que permitisse um controle preciso e automatizado do estoque, o que poderia melhorar a eficiência das operações e a satisfação dos clientes.\n",
        "\n",
        "A busca por uma ferramenta de integração de dados como o **Apache NiFi** fazia parte dessa iniciativa de modernização e melhoria.\n",
        "\n",
        "---\n"
      ],
      "metadata": {
        "id": "scLOftRolc6b"
      }
    },
    {
      "cell_type": "markdown",
      "source": [
        "###**1.3- Métricas de Resultados**\n",
        "\n",
        "As métricas de resultados estabelecidas após a impelemtação do projeto: **Redução de Custos, Satisfação do Cliente, Eficiência Operacional, Tomada de Decisão e Confiabilidade do Sistema.**\n",
        "\n",
        "---\n"
      ],
      "metadata": {
        "id": "9v4ko0JYpJG5"
      }
    },
    {
      "cell_type": "markdown",
      "source": [
        "##**2- SOLUÇÃO PROPOSTA**\n",
        "\n",
        "A solução proposta consistiu na implementação de uma arquitetura de fluxo de dados **(estoque)** on-premise e open source, pois o **Centro de Distribuição Mega Star** optou por essa configuração devido a considerações de custo.\n",
        "\n",
        "Isso significa que o processamento e o gerenciamento de dados foram realizados localmente, nas instalações físicas da empresa, em vez de depender de recursos de nuvem ou externos. **Essa escolha** foi feita com base na avaliação dos custos associados à manutenção de servidores e infraestrutura próprios em comparação com a utilização de serviços de nuvem.\n",
        "\n",
        "Dentro dessa arquitetura, o **Apache NiFi** foi adotado para lidar com a **ingestão, transformação e carregamento de dados**, tornando o processo mais eficiente e automatizado. Além disso, um **Data Lake** baseado em **cluster Hadoop HDFS** foi configurado, contendo um **namenode** e dois **datanodes**, para armazenar centralmente as informações relevantes.\n",
        "\n",
        "**O Data Warehouse (DW)** escolhido para análise de dados foi o **PostgreSQL**, proporcionando um ambiente robusto para consultas e relatórios. Para a provisionamento de infraestrutura, foi usado  **containers Docker**, o que proporcionou flexibilidade e escalabilidade na implantação de recursos adicionais, caso necessário.\n",
        "\n",
        "Essa abordagem **on-premise e open source** permitiu à empresa ter maior controle sobre seus dados e recursos, ao mesmo tempo em que considerava aspectos econômicos.\n",
        "\n",
        "No entanto, também implica a responsabilidade pela manutenção e atualização da infraestrutura local. A solução foi projetada para atender às necessidades específicas do **Centro de Distribuição** e melhorar a gestão de estoque e a eficiência operacional.\n",
        "\n",
        "---"
      ],
      "metadata": {
        "id": "ZDzUtdZtprsI"
      }
    },
    {
      "cell_type": "markdown",
      "source": [
        "###**2.1- Tecnologias Usadas**\n",
        "\n",
        "As tecnologias usadas incluiram:\n",
        "* **Apache Nifi;**\n",
        "* **Apache Hadoop HDFS;**\n",
        "* **PostgreSQL;**\n",
        "* **Docker.**\n",
        "\n",
        "---\n"
      ],
      "metadata": {
        "id": "1BIJyN5Dp_14"
      }
    },
    {
      "cell_type": "markdown",
      "source": [
        "###**2.2- Arquitetura**\n",
        "\n",
        "A arquitetura estabelecida foi a seguinte:\n",
        "\n",
        "* **Apache NiFi** para a ingestão, transformação e carregamento de dados;\n",
        "* Um Data Lake baseado em **cluster Hadoop HDFS** com três máquinas, uma namenode e dois datanodes para armazenamento centralizado de informações;\n",
        "* Um Data Warehouse (DW) com **PostgreSQL** para análise de dados;\n",
        "* Infraestrutura será provisionada via **Docker**.\n",
        "---\n",
        "\n",
        "\n",
        "\n",
        "\n",
        "\n"
      ],
      "metadata": {
        "id": "PrqvFo1QqYxu"
      }
    },
    {
      "cell_type": "markdown",
      "source": [
        "\n",
        "###**2.3- Desafios Técnicos**\n",
        "\n",
        "**A - Integração de Dados Heterogêneos:** Integrar dados de diversas fontes heterogêneas, incluindo sistemas legados e planilhas do Excel, foi um desafio significativo. Isso exigiu a padronização e a transformação dos dados para garantir a consistência.\n",
        "\n",
        "**B - Aumento da Acuracidade do Estoque:** Melhorar a precisão do controle de estoque foi um dos principais objetivos do projeto. Isso envolveu a identificação e correção de discrepâncias nos dados, principalmente em relação a SKUs com várias variações.\n",
        "\n",
        "**C - Treinamento da Equipe:** Introduzir novas ferramentas e tecnologias exigiu o treinamento da equipe existente. Garantir que os colaboradores se adaptem às novas ferramentas e as utilizem de maneira eficaz foi um desafio.\n",
        "\n",
        "**D - Desenvolvimento de Pipelines Personalizados:** Foram necessários pipelines de dados personalizados para atender às necessidades específicas da empresa, incluindo fluxos de dados complexos.\n",
        "\n",
        "**E - Monitoramento Contínuo:** Manter a infraestrutura e os fluxos de dados funcionando sem interrupções exigiu monitoramento constante e a capacidade de solucionar problemas rapidamente.\n",
        "\n",
        "Esses desafios foram superados com sucesso, resultando em uma melhoria significativa na gestão de estoque do SDBE e na capacidade de tomar decisões informadas com base em dados precisos e em tempo real.\"\n",
        "\n",
        "---\n",
        "\n"
      ],
      "metadata": {
        "id": "KU6DkGMOyn6c"
      }
    },
    {
      "cell_type": "markdown",
      "source": [
        "##**3- RESULTADO**\n"
      ],
      "metadata": {
        "id": "Mt_Bem6hzqM6"
      }
    },
    {
      "cell_type": "markdown",
      "source": [
        "###**3.1- Problemas Resolvidos**\n",
        "\n",
        "A arquitetura de dados implemtada resolveu problemas de gestão de estoque, melhorou a eficiência operacional, reduziu custos operacionais e aumentou a satisfação do cliente por meio de entregas mais rápidas e precisas.\"\n",
        "\n",
        "**Gestão de Estoque Eficiente:** O uso de um Data Lake baseado no Hadoop HDFS permitiu o armazenamento centralizado e a gestão eficiente de dados de estoque em tempo real. Isso garantiu que os níveis de estoque fossem mantidos de forma precisa e que os produtos estivessem sempre disponíveis quando necessários.\n",
        "\n",
        "**Tomada de Decisões Informadas:** A arquitetura permitiu a coleta e análise contínua de dados, capacitando a equipe a tomar decisões informadas sobre alocação de recursos, estratégias de estoque e roteamento de entregas.\n",
        "\n",
        "**Confiabilidade do Sistema:ok** O uso do Apache Nifi para a transformação e carregamento de dados automatizou tarefas manuais, acelerando os processos operacionais e reduzindo erros.\n",
        "\n",
        "**Satisfação do Cliente:** Entregas mais rápidas e precisas, juntamente com uma melhor gestão de devoluções, levaram a uma maior satisfação do cliente e à retenção de negócios.\n",
        "\n",
        "**Redução de Custos Operacionais:** A análise de dados permitiu a identificação de ineficiências operacionais, resultando em redução de custos operacionais.\n",
        "\n",
        "**Previsão de Demanda Aprimorada:** O conjunto de dados históricos ajudou na previsão de demanda, evitando problemas de estoque.\n",
        "\n",
        "A implementação desta arquitetura de dados foi fundamental para abordar os desafios de negócios enfrentados pelo SDBE - Storage Distributed by Electrical.\n",
        "\n",
        "---\n",
        "\n"
      ],
      "metadata": {
        "id": "tyiotIQF0DRx"
      }
    },
    {
      "cell_type": "markdown",
      "source": [
        "###**3- Métricas de Performance**\n",
        "\n",
        "\n",
        "**Gestão de Estoque Eficiente:** Acuracidade de estoque teveum aumento de 10%, saindo de 80%  para 90%.\n",
        "\n",
        "**Tomada de Decisões Informadas:** Com um fluxo de dados eficiente os gestores passaram a conseguir tomar decisões baseados em análise de dados.\n",
        "\n",
        "**Satisfação do Cliente:** Ultima pesquisa junto aos clientes após a implemntação do fluxo de dados estava na casa de 90%.\n",
        "\n",
        "**Redução de Custos Operacionais:** Centro de Distribuição conseguiu reduzir em 30% o custo com reposição de divergências de estoques após a implentação do fluxo de dados para análise de saldo de estoque.\n",
        "\n",
        "\n",
        "A implementação desta arquitetura de dados foi fundamental para abordar os desafios de negócios enfrentados pelo SDBE - Storage Distributed by Electrical.\n"
      ],
      "metadata": {
        "id": "8EzJ2YPP07jI"
      }
    }
  ]
}